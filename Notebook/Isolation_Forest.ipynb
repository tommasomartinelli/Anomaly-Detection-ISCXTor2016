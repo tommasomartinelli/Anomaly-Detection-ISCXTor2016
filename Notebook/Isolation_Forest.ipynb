{
 "cells": [
  {
   "cell_type": "code",
   "execution_count": 1,
   "metadata": {},
   "outputs": [],
   "source": [
    "import pandas as pd\n",
    "import numpy as np\n",
    "import matplotlib.pyplot as plt\n",
    "import seaborn as sns\n",
    "import time\n",
    "from sklearn.model_selection import train_test_split\n",
    "from sklearn.preprocessing import MinMaxScaler, StandardScaler, RobustScaler, OneHotEncoder\n",
    "from sklearn.metrics import classification_report, confusion_matrix, roc_auc_score, precision_recall_curve, make_scorer, f1_score, ConfusionMatrixDisplay\n",
    "from sklearn.preprocessing import LabelEncoder\n",
    "from sklearn.ensemble import IsolationForest\n",
    "from sklearn.compose import ColumnTransformer\n",
    "from sklearn.pipeline import Pipeline\n",
    "from imblearn.over_sampling import SMOTE\n",
    "from sklearn.feature_selection import RFE\n",
    "from sklearn.feature_selection import VarianceThreshold\n",
    "from scipy.stats import zscore"
   ]
  },
  {
   "cell_type": "code",
   "execution_count": 2,
   "metadata": {},
   "outputs": [],
   "source": [
    "df = pd.read_csv('../Dataset/SelectedFeatures-10s-TOR-NonTOR.csv')"
   ]
  },
  {
   "cell_type": "code",
   "execution_count": 3,
   "metadata": {},
   "outputs": [
    {
     "name": "stdout",
     "output_type": "stream",
     "text": [
      "        Source Port   Destination Port      Protocol   Flow Duration  \\\n",
      "count  67834.000000       67834.000000  67834.000000    6.783400e+04   \n",
      "mean   37912.753324       11566.395967     12.167291    2.991884e+06   \n",
      "std    20986.077326       18374.765123      5.459410    4.063005e+06   \n",
      "min       21.000000          21.000000      6.000000    0.000000e+00   \n",
      "25%    19305.000000         137.000000      6.000000    4.435975e+04   \n",
      "50%    43677.000000         443.000000     17.000000    4.108570e+05   \n",
      "75%    54685.000000       16311.000000     17.000000    7.325550e+06   \n",
      "max    65534.000000       65514.000000     17.000000    1.000000e+07   \n",
      "\n",
      "        Flow Bytes/s   Flow Packets/s   Flow IAT Mean   Flow IAT Std  \\\n",
      "count   6.783200e+04     6.783400e+04    6.783400e+04   6.783400e+04   \n",
      "mean             inf              inf    3.155927e+05   2.209662e+05   \n",
      "std              NaN              NaN    6.988069e+05   6.409506e+05   \n",
      "min     0.000000e+00     2.002581e-01    0.000000e+00   0.000000e+00   \n",
      "25%     1.046553e+02     4.861712e+00    9.951270e+03   0.000000e+00   \n",
      "50%     1.331365e+03     1.631734e+01    8.344079e+04   0.000000e+00   \n",
      "75%     2.170103e+04     1.007038e+02    4.106090e+05   5.790789e+04   \n",
      "max              inf              inf    9.987113e+06   7.045491e+06   \n",
      "\n",
      "        Flow IAT Max   Flow IAT Min  ...   Bwd IAT Max   Bwd IAT Min  \\\n",
      "count   6.783400e+04   6.783400e+04  ...  6.783400e+04  6.783400e+04   \n",
      "mean    8.983857e+05   1.924432e+05  ...  4.760216e+05  5.158576e+04   \n",
      "std     1.738476e+06   5.780313e+05  ...  1.409648e+06  4.873526e+05   \n",
      "min     0.000000e+00  -2.255000e+03  ...  0.000000e+00 -3.270000e+02   \n",
      "25%     2.892575e+04   2.600000e+01  ...  0.000000e+00  0.000000e+00   \n",
      "50%     1.786225e+05   1.371500e+03  ...  0.000000e+00  0.000000e+00   \n",
      "75%     4.641098e+05   2.075310e+05  ...  8.278800e+04  1.700000e+01   \n",
      "max     9.998126e+06   9.987113e+06  ...  9.996903e+06  9.996903e+06   \n",
      "\n",
      "        Active Mean   Active Std    Active Max    Active Min     Idle Mean  \\\n",
      "count  6.783400e+04      67834.0  6.783400e+04  6.783400e+04  6.783400e+04   \n",
      "mean   3.887655e+04          0.0  3.887655e+04  3.887655e+04  3.085054e+05   \n",
      "std    3.154634e+05          0.0  3.154634e+05  3.154634e+05  1.453953e+06   \n",
      "min    0.000000e+00          0.0  0.000000e+00  0.000000e+00  0.000000e+00   \n",
      "25%    0.000000e+00          0.0  0.000000e+00  0.000000e+00  0.000000e+00   \n",
      "50%    0.000000e+00          0.0  0.000000e+00  0.000000e+00  0.000000e+00   \n",
      "75%    0.000000e+00          0.0  0.000000e+00  0.000000e+00  0.000000e+00   \n",
      "max    4.999893e+06          0.0  4.999893e+06  4.999893e+06  9.998126e+06   \n",
      "\n",
      "        Idle Std      Idle Max      Idle Min  \n",
      "count    67834.0  6.783400e+04  6.783400e+04  \n",
      "mean         0.0  3.085054e+05  3.085054e+05  \n",
      "std          0.0  1.453953e+06  1.453953e+06  \n",
      "min          0.0  0.000000e+00  0.000000e+00  \n",
      "25%          0.0  0.000000e+00  0.000000e+00  \n",
      "50%          0.0  0.000000e+00  0.000000e+00  \n",
      "75%          0.0  0.000000e+00  0.000000e+00  \n",
      "max          0.0  9.998126e+06  9.998126e+06  \n",
      "\n",
      "[8 rows x 26 columns] \n",
      "\n"
     ]
    }
   ],
   "source": [
    "print(df.describe(), '\\n')"
   ]
  },
  {
   "cell_type": "code",
   "execution_count": 4,
   "metadata": {},
   "outputs": [
    {
     "name": "stdout",
     "output_type": "stream",
     "text": [
      "   Source IP   Source Port  Destination IP   Destination Port   Protocol  \\\n",
      "0  10.0.2.15         53913   216.58.208.46                 80          6   \n",
      "1  10.0.2.15         53913   216.58.208.46                 80          6   \n",
      "2  10.0.2.15         53913   216.58.208.46                 80          6   \n",
      "3  10.0.2.15         53913   216.58.208.46                 80          6   \n",
      "4  10.0.2.15         53913   216.58.208.46                 80          6   \n",
      "\n",
      "    Flow Duration   Flow Bytes/s   Flow Packets/s   Flow IAT Mean  \\\n",
      "0             435            0.0      4597.701149           435.0   \n",
      "1             259            0.0      7722.007722           259.0   \n",
      "2             891            0.0      2244.668911           891.0   \n",
      "3            1074            0.0      1862.197393          1074.0   \n",
      "4             315            0.0      6349.206349           315.0   \n",
      "\n",
      "    Flow IAT Std  ...   Bwd IAT Min  Active Mean   Active Std   Active Max  \\\n",
      "0            0.0  ...             0            0            0            0   \n",
      "1            0.0  ...             0            0            0            0   \n",
      "2            0.0  ...             0            0            0            0   \n",
      "3            0.0  ...             0            0            0            0   \n",
      "4            0.0  ...             0            0            0            0   \n",
      "\n",
      "    Active Min  Idle Mean   Idle Std   Idle Max   Idle Min   label  \n",
      "0            0          0          0          0          0  nonTOR  \n",
      "1            0          0          0          0          0  nonTOR  \n",
      "2            0          0          0          0          0  nonTOR  \n",
      "3            0          0          0          0          0  nonTOR  \n",
      "4            0          0          0          0          0  nonTOR  \n",
      "\n",
      "[5 rows x 29 columns]\n"
     ]
    }
   ],
   "source": [
    "print(df.head())"
   ]
  },
  {
   "cell_type": "code",
   "execution_count": 5,
   "metadata": {},
   "outputs": [
    {
     "data": {
      "text/plain": [
       "(67834, 29)"
      ]
     },
     "execution_count": 5,
     "metadata": {},
     "output_type": "execute_result"
    }
   ],
   "source": [
    "df.shape"
   ]
  },
  {
   "cell_type": "code",
   "execution_count": 6,
   "metadata": {},
   "outputs": [
    {
     "name": "stdout",
     "output_type": "stream",
     "text": [
      "<class 'pandas.core.frame.DataFrame'>\n",
      "RangeIndex: 67834 entries, 0 to 67833\n",
      "Data columns (total 29 columns):\n",
      " #   Column             Non-Null Count  Dtype  \n",
      "---  ------             --------------  -----  \n",
      " 0   Source IP          67834 non-null  object \n",
      " 1    Source Port       67834 non-null  int64  \n",
      " 2    Destination IP    67834 non-null  object \n",
      " 3    Destination Port  67834 non-null  int64  \n",
      " 4    Protocol          67834 non-null  int64  \n",
      " 5    Flow Duration     67834 non-null  int64  \n",
      " 6    Flow Bytes/s      67832 non-null  float64\n",
      " 7    Flow Packets/s    67834 non-null  float64\n",
      " 8    Flow IAT Mean     67834 non-null  float64\n",
      " 9    Flow IAT Std      67834 non-null  float64\n",
      " 10   Flow IAT Max      67834 non-null  int64  \n",
      " 11   Flow IAT Min      67834 non-null  int64  \n",
      " 12  Fwd IAT Mean       67834 non-null  float64\n",
      " 13   Fwd IAT Std       67834 non-null  float64\n",
      " 14   Fwd IAT Max       67834 non-null  int64  \n",
      " 15   Fwd IAT Min       67834 non-null  int64  \n",
      " 16  Bwd IAT Mean       67834 non-null  float64\n",
      " 17   Bwd IAT Std       67834 non-null  float64\n",
      " 18   Bwd IAT Max       67834 non-null  int64  \n",
      " 19   Bwd IAT Min       67834 non-null  int64  \n",
      " 20  Active Mean        67834 non-null  int64  \n",
      " 21   Active Std        67834 non-null  int64  \n",
      " 22   Active Max        67834 non-null  int64  \n",
      " 23   Active Min        67834 non-null  int64  \n",
      " 24  Idle Mean          67834 non-null  int64  \n",
      " 25   Idle Std          67834 non-null  int64  \n",
      " 26   Idle Max          67834 non-null  int64  \n",
      " 27   Idle Min          67834 non-null  int64  \n",
      " 28  label              67834 non-null  object \n",
      "dtypes: float64(8), int64(18), object(3)\n",
      "memory usage: 15.0+ MB\n",
      "None\n"
     ]
    }
   ],
   "source": [
    "print(df.info())"
   ]
  },
  {
   "cell_type": "code",
   "execution_count": 7,
   "metadata": {},
   "outputs": [
    {
     "name": "stdout",
     "output_type": "stream",
     "text": [
      "label\n",
      "nonTOR    59790\n",
      "TOR        8044\n",
      "Name: count, dtype: int64\n"
     ]
    }
   ],
   "source": [
    "print(df['label'].value_counts())"
   ]
  },
  {
   "cell_type": "code",
   "execution_count": 8,
   "metadata": {},
   "outputs": [
    {
     "name": "stdout",
     "output_type": "stream",
     "text": [
      "Source IP            0\n",
      " Source Port         0\n",
      " Destination IP      0\n",
      " Destination Port    0\n",
      " Protocol            0\n",
      " Flow Duration       0\n",
      " Flow Bytes/s        2\n",
      " Flow Packets/s      0\n",
      " Flow IAT Mean       0\n",
      " Flow IAT Std        0\n",
      " Flow IAT Max        0\n",
      " Flow IAT Min        0\n",
      "Fwd IAT Mean         0\n",
      " Fwd IAT Std         0\n",
      " Fwd IAT Max         0\n",
      " Fwd IAT Min         0\n",
      "Bwd IAT Mean         0\n",
      " Bwd IAT Std         0\n",
      " Bwd IAT Max         0\n",
      " Bwd IAT Min         0\n",
      "Active Mean          0\n",
      " Active Std          0\n",
      " Active Max          0\n",
      " Active Min          0\n",
      "Idle Mean            0\n",
      " Idle Std            0\n",
      " Idle Max            0\n",
      " Idle Min            0\n",
      "label                0\n",
      "dtype: int64\n"
     ]
    }
   ],
   "source": [
    "print(df.isnull().sum())"
   ]
  },
  {
   "cell_type": "code",
   "execution_count": 9,
   "metadata": {},
   "outputs": [],
   "source": [
    "categorical_features = [\"Source IP\", \" Destination IP\"]\n",
    "numeric_features = df.columns.difference(categorical_features + [\"label\"])"
   ]
  },
  {
   "cell_type": "code",
   "execution_count": 10,
   "metadata": {},
   "outputs": [],
   "source": [
    "df.fillna(0, inplace=True)"
   ]
  },
  {
   "cell_type": "code",
   "execution_count": 11,
   "metadata": {},
   "outputs": [],
   "source": [
    "upper_limit = 1e9\n",
    "lower_limit = -1e9\n",
    "df[numeric_features] = df[numeric_features].applymap(lambda x: min(upper_limit, max(lower_limit, x)))"
   ]
  },
  {
   "cell_type": "code",
   "execution_count": 12,
   "metadata": {},
   "outputs": [
    {
     "name": "stdout",
     "output_type": "stream",
     "text": [
      "label\n",
      "nonTOR    59790\n",
      "TOR        8044\n",
      "Name: count, dtype: int64\n"
     ]
    }
   ],
   "source": [
    "print(df['label'].value_counts())"
   ]
  },
  {
   "cell_type": "code",
   "execution_count": 13,
   "metadata": {},
   "outputs": [
    {
     "name": "stdout",
     "output_type": "stream",
     "text": [
      "Numero di duplicati:  396\n"
     ]
    }
   ],
   "source": [
    "duplicati = df[df.duplicated()]\n",
    "numero_duplicati = df.duplicated().sum()\n",
    "print('Numero di duplicati: ', numero_duplicati)"
   ]
  },
  {
   "cell_type": "code",
   "execution_count": 14,
   "metadata": {},
   "outputs": [
    {
     "data": {
      "text/html": [
       "<div>\n",
       "<style scoped>\n",
       "    .dataframe tbody tr th:only-of-type {\n",
       "        vertical-align: middle;\n",
       "    }\n",
       "\n",
       "    .dataframe tbody tr th {\n",
       "        vertical-align: top;\n",
       "    }\n",
       "\n",
       "    .dataframe thead th {\n",
       "        text-align: right;\n",
       "    }\n",
       "</style>\n",
       "<table border=\"1\" class=\"dataframe\">\n",
       "  <thead>\n",
       "    <tr style=\"text-align: right;\">\n",
       "      <th></th>\n",
       "      <th>Source IP</th>\n",
       "      <th>Source Port</th>\n",
       "      <th>Destination IP</th>\n",
       "      <th>Destination Port</th>\n",
       "      <th>Protocol</th>\n",
       "      <th>Flow Duration</th>\n",
       "      <th>Flow Bytes/s</th>\n",
       "      <th>Flow Packets/s</th>\n",
       "      <th>Flow IAT Mean</th>\n",
       "      <th>Flow IAT Std</th>\n",
       "      <th>...</th>\n",
       "      <th>Bwd IAT Min</th>\n",
       "      <th>Active Mean</th>\n",
       "      <th>Active Std</th>\n",
       "      <th>Active Max</th>\n",
       "      <th>Active Min</th>\n",
       "      <th>Idle Mean</th>\n",
       "      <th>Idle Std</th>\n",
       "      <th>Idle Max</th>\n",
       "      <th>Idle Min</th>\n",
       "      <th>label</th>\n",
       "    </tr>\n",
       "  </thead>\n",
       "  <tbody>\n",
       "    <tr>\n",
       "      <th>0</th>\n",
       "      <td>10.0.2.15</td>\n",
       "      <td>53913</td>\n",
       "      <td>216.58.208.46</td>\n",
       "      <td>80</td>\n",
       "      <td>6</td>\n",
       "      <td>435</td>\n",
       "      <td>0.000000e+00</td>\n",
       "      <td>4.597701e+03</td>\n",
       "      <td>435.0</td>\n",
       "      <td>0.0</td>\n",
       "      <td>...</td>\n",
       "      <td>0</td>\n",
       "      <td>0</td>\n",
       "      <td>0</td>\n",
       "      <td>0</td>\n",
       "      <td>0</td>\n",
       "      <td>0</td>\n",
       "      <td>0</td>\n",
       "      <td>0</td>\n",
       "      <td>0</td>\n",
       "      <td>nonTOR</td>\n",
       "    </tr>\n",
       "    <tr>\n",
       "      <th>1</th>\n",
       "      <td>10.0.2.15</td>\n",
       "      <td>53913</td>\n",
       "      <td>216.58.208.46</td>\n",
       "      <td>80</td>\n",
       "      <td>6</td>\n",
       "      <td>259</td>\n",
       "      <td>0.000000e+00</td>\n",
       "      <td>7.722008e+03</td>\n",
       "      <td>259.0</td>\n",
       "      <td>0.0</td>\n",
       "      <td>...</td>\n",
       "      <td>0</td>\n",
       "      <td>0</td>\n",
       "      <td>0</td>\n",
       "      <td>0</td>\n",
       "      <td>0</td>\n",
       "      <td>0</td>\n",
       "      <td>0</td>\n",
       "      <td>0</td>\n",
       "      <td>0</td>\n",
       "      <td>nonTOR</td>\n",
       "    </tr>\n",
       "    <tr>\n",
       "      <th>2</th>\n",
       "      <td>10.0.2.15</td>\n",
       "      <td>53913</td>\n",
       "      <td>216.58.208.46</td>\n",
       "      <td>80</td>\n",
       "      <td>6</td>\n",
       "      <td>891</td>\n",
       "      <td>0.000000e+00</td>\n",
       "      <td>2.244669e+03</td>\n",
       "      <td>891.0</td>\n",
       "      <td>0.0</td>\n",
       "      <td>...</td>\n",
       "      <td>0</td>\n",
       "      <td>0</td>\n",
       "      <td>0</td>\n",
       "      <td>0</td>\n",
       "      <td>0</td>\n",
       "      <td>0</td>\n",
       "      <td>0</td>\n",
       "      <td>0</td>\n",
       "      <td>0</td>\n",
       "      <td>nonTOR</td>\n",
       "    </tr>\n",
       "    <tr>\n",
       "      <th>3</th>\n",
       "      <td>10.0.2.15</td>\n",
       "      <td>53913</td>\n",
       "      <td>216.58.208.46</td>\n",
       "      <td>80</td>\n",
       "      <td>6</td>\n",
       "      <td>1074</td>\n",
       "      <td>0.000000e+00</td>\n",
       "      <td>1.862197e+03</td>\n",
       "      <td>1074.0</td>\n",
       "      <td>0.0</td>\n",
       "      <td>...</td>\n",
       "      <td>0</td>\n",
       "      <td>0</td>\n",
       "      <td>0</td>\n",
       "      <td>0</td>\n",
       "      <td>0</td>\n",
       "      <td>0</td>\n",
       "      <td>0</td>\n",
       "      <td>0</td>\n",
       "      <td>0</td>\n",
       "      <td>nonTOR</td>\n",
       "    </tr>\n",
       "    <tr>\n",
       "      <th>4</th>\n",
       "      <td>10.0.2.15</td>\n",
       "      <td>53913</td>\n",
       "      <td>216.58.208.46</td>\n",
       "      <td>80</td>\n",
       "      <td>6</td>\n",
       "      <td>315</td>\n",
       "      <td>0.000000e+00</td>\n",
       "      <td>6.349206e+03</td>\n",
       "      <td>315.0</td>\n",
       "      <td>0.0</td>\n",
       "      <td>...</td>\n",
       "      <td>0</td>\n",
       "      <td>0</td>\n",
       "      <td>0</td>\n",
       "      <td>0</td>\n",
       "      <td>0</td>\n",
       "      <td>0</td>\n",
       "      <td>0</td>\n",
       "      <td>0</td>\n",
       "      <td>0</td>\n",
       "      <td>nonTOR</td>\n",
       "    </tr>\n",
       "    <tr>\n",
       "      <th>...</th>\n",
       "      <td>...</td>\n",
       "      <td>...</td>\n",
       "      <td>...</td>\n",
       "      <td>...</td>\n",
       "      <td>...</td>\n",
       "      <td>...</td>\n",
       "      <td>...</td>\n",
       "      <td>...</td>\n",
       "      <td>...</td>\n",
       "      <td>...</td>\n",
       "      <td>...</td>\n",
       "      <td>...</td>\n",
       "      <td>...</td>\n",
       "      <td>...</td>\n",
       "      <td>...</td>\n",
       "      <td>...</td>\n",
       "      <td>...</td>\n",
       "      <td>...</td>\n",
       "      <td>...</td>\n",
       "      <td>...</td>\n",
       "      <td>...</td>\n",
       "    </tr>\n",
       "    <tr>\n",
       "      <th>67828</th>\n",
       "      <td>10.8.8.134</td>\n",
       "      <td>34251</td>\n",
       "      <td>134.170.18.137</td>\n",
       "      <td>443</td>\n",
       "      <td>6</td>\n",
       "      <td>0</td>\n",
       "      <td>1.000000e+09</td>\n",
       "      <td>1.000000e+09</td>\n",
       "      <td>0.0</td>\n",
       "      <td>0.0</td>\n",
       "      <td>...</td>\n",
       "      <td>0</td>\n",
       "      <td>0</td>\n",
       "      <td>0</td>\n",
       "      <td>0</td>\n",
       "      <td>0</td>\n",
       "      <td>0</td>\n",
       "      <td>0</td>\n",
       "      <td>0</td>\n",
       "      <td>0</td>\n",
       "      <td>nonTOR</td>\n",
       "    </tr>\n",
       "    <tr>\n",
       "      <th>67829</th>\n",
       "      <td>131.202.240.183</td>\n",
       "      <td>7116</td>\n",
       "      <td>239.255.255.250</td>\n",
       "      <td>1900</td>\n",
       "      <td>17</td>\n",
       "      <td>0</td>\n",
       "      <td>1.000000e+09</td>\n",
       "      <td>1.000000e+09</td>\n",
       "      <td>0.0</td>\n",
       "      <td>0.0</td>\n",
       "      <td>...</td>\n",
       "      <td>0</td>\n",
       "      <td>0</td>\n",
       "      <td>0</td>\n",
       "      <td>0</td>\n",
       "      <td>0</td>\n",
       "      <td>0</td>\n",
       "      <td>0</td>\n",
       "      <td>0</td>\n",
       "      <td>0</td>\n",
       "      <td>nonTOR</td>\n",
       "    </tr>\n",
       "    <tr>\n",
       "      <th>67831</th>\n",
       "      <td>131.202.240.87</td>\n",
       "      <td>11365</td>\n",
       "      <td>31.13.73.1</td>\n",
       "      <td>443</td>\n",
       "      <td>6</td>\n",
       "      <td>0</td>\n",
       "      <td>1.000000e+09</td>\n",
       "      <td>1.000000e+09</td>\n",
       "      <td>0.0</td>\n",
       "      <td>0.0</td>\n",
       "      <td>...</td>\n",
       "      <td>0</td>\n",
       "      <td>0</td>\n",
       "      <td>0</td>\n",
       "      <td>0</td>\n",
       "      <td>0</td>\n",
       "      <td>0</td>\n",
       "      <td>0</td>\n",
       "      <td>0</td>\n",
       "      <td>0</td>\n",
       "      <td>nonTOR</td>\n",
       "    </tr>\n",
       "    <tr>\n",
       "      <th>67832</th>\n",
       "      <td>131.202.6.26</td>\n",
       "      <td>13000</td>\n",
       "      <td>131.202.240.87</td>\n",
       "      <td>64584</td>\n",
       "      <td>6</td>\n",
       "      <td>0</td>\n",
       "      <td>0.000000e+00</td>\n",
       "      <td>1.000000e+09</td>\n",
       "      <td>0.0</td>\n",
       "      <td>0.0</td>\n",
       "      <td>...</td>\n",
       "      <td>0</td>\n",
       "      <td>0</td>\n",
       "      <td>0</td>\n",
       "      <td>0</td>\n",
       "      <td>0</td>\n",
       "      <td>0</td>\n",
       "      <td>0</td>\n",
       "      <td>0</td>\n",
       "      <td>0</td>\n",
       "      <td>nonTOR</td>\n",
       "    </tr>\n",
       "    <tr>\n",
       "      <th>67833</th>\n",
       "      <td>38.124.168.119</td>\n",
       "      <td>80</td>\n",
       "      <td>131.202.240.87</td>\n",
       "      <td>65089</td>\n",
       "      <td>6</td>\n",
       "      <td>0</td>\n",
       "      <td>0.000000e+00</td>\n",
       "      <td>1.000000e+09</td>\n",
       "      <td>0.0</td>\n",
       "      <td>0.0</td>\n",
       "      <td>...</td>\n",
       "      <td>0</td>\n",
       "      <td>0</td>\n",
       "      <td>0</td>\n",
       "      <td>0</td>\n",
       "      <td>0</td>\n",
       "      <td>0</td>\n",
       "      <td>0</td>\n",
       "      <td>0</td>\n",
       "      <td>0</td>\n",
       "      <td>nonTOR</td>\n",
       "    </tr>\n",
       "  </tbody>\n",
       "</table>\n",
       "<p>67438 rows × 29 columns</p>\n",
       "</div>"
      ],
      "text/plain": [
       "             Source IP   Source Port   Destination IP   Destination Port  \\\n",
       "0            10.0.2.15         53913    216.58.208.46                 80   \n",
       "1            10.0.2.15         53913    216.58.208.46                 80   \n",
       "2            10.0.2.15         53913    216.58.208.46                 80   \n",
       "3            10.0.2.15         53913    216.58.208.46                 80   \n",
       "4            10.0.2.15         53913    216.58.208.46                 80   \n",
       "...                ...           ...              ...                ...   \n",
       "67828       10.8.8.134         34251   134.170.18.137                443   \n",
       "67829  131.202.240.183          7116  239.255.255.250               1900   \n",
       "67831   131.202.240.87         11365       31.13.73.1                443   \n",
       "67832     131.202.6.26         13000   131.202.240.87              64584   \n",
       "67833   38.124.168.119            80   131.202.240.87              65089   \n",
       "\n",
       "        Protocol   Flow Duration   Flow Bytes/s   Flow Packets/s  \\\n",
       "0              6             435   0.000000e+00     4.597701e+03   \n",
       "1              6             259   0.000000e+00     7.722008e+03   \n",
       "2              6             891   0.000000e+00     2.244669e+03   \n",
       "3              6            1074   0.000000e+00     1.862197e+03   \n",
       "4              6             315   0.000000e+00     6.349206e+03   \n",
       "...          ...             ...            ...              ...   \n",
       "67828          6               0   1.000000e+09     1.000000e+09   \n",
       "67829         17               0   1.000000e+09     1.000000e+09   \n",
       "67831          6               0   1.000000e+09     1.000000e+09   \n",
       "67832          6               0   0.000000e+00     1.000000e+09   \n",
       "67833          6               0   0.000000e+00     1.000000e+09   \n",
       "\n",
       "        Flow IAT Mean   Flow IAT Std  ...   Bwd IAT Min  Active Mean  \\\n",
       "0               435.0            0.0  ...             0            0   \n",
       "1               259.0            0.0  ...             0            0   \n",
       "2               891.0            0.0  ...             0            0   \n",
       "3              1074.0            0.0  ...             0            0   \n",
       "4               315.0            0.0  ...             0            0   \n",
       "...               ...            ...  ...           ...          ...   \n",
       "67828             0.0            0.0  ...             0            0   \n",
       "67829             0.0            0.0  ...             0            0   \n",
       "67831             0.0            0.0  ...             0            0   \n",
       "67832             0.0            0.0  ...             0            0   \n",
       "67833             0.0            0.0  ...             0            0   \n",
       "\n",
       "        Active Std   Active Max   Active Min  Idle Mean   Idle Std   Idle Max  \\\n",
       "0                0            0            0          0          0          0   \n",
       "1                0            0            0          0          0          0   \n",
       "2                0            0            0          0          0          0   \n",
       "3                0            0            0          0          0          0   \n",
       "4                0            0            0          0          0          0   \n",
       "...            ...          ...          ...        ...        ...        ...   \n",
       "67828            0            0            0          0          0          0   \n",
       "67829            0            0            0          0          0          0   \n",
       "67831            0            0            0          0          0          0   \n",
       "67832            0            0            0          0          0          0   \n",
       "67833            0            0            0          0          0          0   \n",
       "\n",
       "        Idle Min   label  \n",
       "0              0  nonTOR  \n",
       "1              0  nonTOR  \n",
       "2              0  nonTOR  \n",
       "3              0  nonTOR  \n",
       "4              0  nonTOR  \n",
       "...          ...     ...  \n",
       "67828          0  nonTOR  \n",
       "67829          0  nonTOR  \n",
       "67831          0  nonTOR  \n",
       "67832          0  nonTOR  \n",
       "67833          0  nonTOR  \n",
       "\n",
       "[67438 rows x 29 columns]"
      ]
     },
     "execution_count": 14,
     "metadata": {},
     "output_type": "execute_result"
    }
   ],
   "source": [
    "df.drop_duplicates()"
   ]
  },
  {
   "cell_type": "code",
   "execution_count": 15,
   "metadata": {},
   "outputs": [
    {
     "data": {
      "text/plain": [
       "(67834, 27)"
      ]
     },
     "execution_count": 15,
     "metadata": {},
     "output_type": "execute_result"
    }
   ],
   "source": [
    "unique_value_columns = df[numeric_features].nunique() == 1\n",
    "columns_to_drop = unique_value_columns[unique_value_columns].index\n",
    "numeric_features = [col for col in numeric_features if col not in columns_to_drop]\n",
    "df = df.drop(columns=columns_to_drop)\n",
    "df.shape"
   ]
  },
  {
   "cell_type": "code",
   "execution_count": 16,
   "metadata": {},
   "outputs": [
    {
     "name": "stdout",
     "output_type": "stream",
     "text": [
      "                    Active Max   Active Min   Bwd IAT Max   Bwd IAT Min  \\\n",
      " Active Max           1.000000     1.000000      0.258841      0.021367   \n",
      " Active Min           1.000000     1.000000      0.258841      0.021367   \n",
      " Bwd IAT Max          0.258841     0.258841      1.000000      0.336722   \n",
      " Bwd IAT Min          0.021367     0.021367      0.336722      1.000000   \n",
      " Bwd IAT Std          0.229780     0.229780      0.813613      0.011486   \n",
      " Destination Port     0.014742     0.014742      0.061794      0.077405   \n",
      " Flow Bytes/s        -0.003909    -0.003909     -0.008080     -0.003471   \n",
      " Flow Duration        0.192200     0.192200      0.418185      0.103096   \n",
      " Flow IAT Max         0.370279     0.370279      0.718126      0.243098   \n",
      " Flow IAT Mean        0.253244     0.253244      0.072690      0.202059   \n",
      " Flow IAT Min         0.198153     0.198153     -0.109417     -0.027436   \n",
      " Flow IAT Std         0.231191     0.231191      0.476827      0.398644   \n",
      " Flow Packets/s      -0.001202    -0.001202     -0.003292     -0.001033   \n",
      " Fwd IAT Max          0.370655     0.370655      0.702463      0.185512   \n",
      " Fwd IAT Min          0.175606     0.175606      0.045864      0.290955   \n",
      " Fwd IAT Std          0.262105     0.262105      0.522606      0.112103   \n",
      " Idle Max             0.492737     0.492737      0.612379      0.197446   \n",
      " Idle Min             0.492737     0.492737      0.612379      0.197446   \n",
      " Protocol            -0.018921    -0.018921     -0.303767     -0.031925   \n",
      " Source Port         -0.026468    -0.026468      0.026331      0.002494   \n",
      "Active Mean           1.000000     1.000000      0.258841      0.021367   \n",
      "Bwd IAT Mean          0.109958     0.109958      0.621331      0.870981   \n",
      "Fwd IAT Mean          0.256745     0.256745      0.237350      0.309755   \n",
      "Idle Mean             0.492737     0.492737      0.612379      0.197446   \n",
      "\n",
      "                    Bwd IAT Std   Destination Port   Flow Bytes/s  \\\n",
      " Active Max            0.229780           0.014742      -0.003909   \n",
      " Active Min            0.229780           0.014742      -0.003909   \n",
      " Bwd IAT Max           0.813613           0.061794      -0.008080   \n",
      " Bwd IAT Min           0.011486           0.077405      -0.003471   \n",
      " Bwd IAT Std           1.000000           0.059170      -0.008188   \n",
      " Destination Port      0.059170           1.000000      -0.001322   \n",
      " Flow Bytes/s         -0.008188          -0.001322       1.000000   \n",
      " Flow Duration         0.299325           0.281831      -0.016185   \n",
      " Flow IAT Max          0.588069           0.014644      -0.014566   \n",
      " Flow IAT Mean         0.066103           0.017048      -0.014797   \n",
      " Flow IAT Min         -0.084977          -0.003892      -0.010918   \n",
      " Flow IAT Std          0.429247           0.021395      -0.011187   \n",
      " Flow Packets/s       -0.002505           0.005797       0.660585   \n",
      " Fwd IAT Max           0.588798           0.016629      -0.013902   \n",
      " Fwd IAT Min          -0.030193           0.044567      -0.009570   \n",
      " Fwd IAT Std           0.580673          -0.000323      -0.010925   \n",
      " Idle Max              0.541561          -0.000244      -0.006278   \n",
      " Idle Min              0.541561          -0.000244      -0.006278   \n",
      " Protocol             -0.238764          -0.075580      -0.002305   \n",
      " Source Port           0.014433          -0.315651      -0.021017   \n",
      "Active Mean            0.229780           0.014742      -0.003909   \n",
      "Bwd IAT Mean           0.472884           0.110033      -0.006893   \n",
      "Fwd IAT Mean           0.220357           0.049323      -0.013654   \n",
      "Idle Mean              0.541561          -0.000244      -0.006278   \n",
      "\n",
      "                    Flow Duration   Flow IAT Max   Flow IAT Mean  ...  \\\n",
      " Active Max              0.192200       0.370279        0.253244  ...   \n",
      " Active Min              0.192200       0.370279        0.253244  ...   \n",
      " Bwd IAT Max             0.418185       0.718126        0.072690  ...   \n",
      " Bwd IAT Min             0.103096       0.243098        0.202059  ...   \n",
      " Bwd IAT Std             0.299325       0.588069        0.066103  ...   \n",
      " Destination Port        0.281831       0.014644        0.017048  ...   \n",
      " Flow Bytes/s           -0.016185      -0.014566       -0.014797  ...   \n",
      " Flow Duration           1.000000       0.491896        0.208493  ...   \n",
      " Flow IAT Max            0.491896       1.000000        0.611137  ...   \n",
      " Flow IAT Mean           0.208493       0.611137        1.000000  ...   \n",
      " Flow IAT Min            0.039362       0.282872        0.835644  ...   \n",
      " Flow IAT Std            0.365724       0.815076        0.527316  ...   \n",
      " Flow Packets/s         -0.007174      -0.005040       -0.004406  ...   \n",
      " Fwd IAT Max             0.501990       0.978830        0.574263  ...   \n",
      " Fwd IAT Min             0.111957       0.353591        0.759569  ...   \n",
      " Fwd IAT Std             0.379584       0.814629        0.409196  ...   \n",
      " Idle Max                0.303077       0.764341        0.377040  ...   \n",
      " Idle Min                0.303077       0.764341        0.377040  ...   \n",
      " Protocol               -0.245586      -0.120596        0.176801  ...   \n",
      " Source Port            -0.217702      -0.092587       -0.064130  ...   \n",
      "Active Mean              0.192200       0.370279        0.253244  ...   \n",
      "Bwd IAT Mean             0.224649       0.444066        0.213093  ...   \n",
      "Fwd IAT Mean             0.274664       0.664807        0.874280  ...   \n",
      "Idle Mean                0.303077       0.764341        0.377040  ...   \n",
      "\n",
      "                    Fwd IAT Min   Fwd IAT Std   Idle Max   Idle Min  \\\n",
      " Active Max            0.175606      0.262105   0.492737   0.492737   \n",
      " Active Min            0.175606      0.262105   0.492737   0.492737   \n",
      " Bwd IAT Max           0.045864      0.522606   0.612379   0.612379   \n",
      " Bwd IAT Min           0.290955      0.112103   0.197446   0.197446   \n",
      " Bwd IAT Std          -0.030193      0.580673   0.541561   0.541561   \n",
      " Destination Port      0.044567     -0.000323  -0.000244  -0.000244   \n",
      " Flow Bytes/s         -0.009570     -0.010925  -0.006278  -0.006278   \n",
      " Flow Duration         0.111957      0.379584   0.303077   0.303077   \n",
      " Flow IAT Max          0.353591      0.814629   0.764341   0.764341   \n",
      " Flow IAT Mean         0.759569      0.409196   0.377040   0.377040   \n",
      " Flow IAT Min          0.751773     -0.005787   0.161507   0.161507   \n",
      " Flow IAT Std          0.225298      0.863454   0.613221   0.613221   \n",
      " Flow Packets/s       -0.002845     -0.003303  -0.002070  -0.002070   \n",
      " Fwd IAT Max           0.378785      0.824583   0.759065   0.759065   \n",
      " Fwd IAT Min           1.000000      0.001469   0.232042   0.232042   \n",
      " Fwd IAT Std           0.001469      1.000000   0.664722   0.664722   \n",
      " Idle Max              0.232042      0.664722   1.000000   1.000000   \n",
      " Idle Min              0.232042      0.664722   1.000000   1.000000   \n",
      " Protocol              0.173088     -0.129448  -0.088044  -0.088044   \n",
      " Source Port           0.008726     -0.109156  -0.024293  -0.024293   \n",
      "Active Mean            0.175606      0.262105   0.492737   0.492737   \n",
      "Bwd IAT Mean           0.240342      0.356484   0.371006   0.371006   \n",
      "Fwd IAT Mean           0.864199      0.484186   0.467348   0.467348   \n",
      "Idle Mean              0.232042      0.664722   1.000000   1.000000   \n",
      "\n",
      "                    Protocol   Source Port  Active Mean  Bwd IAT Mean  \\\n",
      " Active Max        -0.018921     -0.026468     1.000000      0.109958   \n",
      " Active Min        -0.018921     -0.026468     1.000000      0.109958   \n",
      " Bwd IAT Max       -0.303767      0.026331     0.258841      0.621331   \n",
      " Bwd IAT Min       -0.031925      0.002494     0.021367      0.870981   \n",
      " Bwd IAT Std       -0.238764      0.014433     0.229780      0.472884   \n",
      " Destination Port  -0.075580     -0.315651     0.014742      0.110033   \n",
      " Flow Bytes/s      -0.002305     -0.021017    -0.003909     -0.006893   \n",
      " Flow Duration     -0.245586     -0.217702     0.192200      0.224649   \n",
      " Flow IAT Max      -0.120596     -0.092587     0.370279      0.444066   \n",
      " Flow IAT Mean      0.176801     -0.064130     0.253244      0.213093   \n",
      " Flow IAT Min       0.234121      0.015923     0.198153     -0.063362   \n",
      " Flow IAT Std      -0.089224     -0.128626     0.231191      0.540873   \n",
      " Flow Packets/s    -0.004521     -0.011809    -0.001202     -0.002062   \n",
      " Fwd IAT Max       -0.124584     -0.091559     0.370655      0.395396   \n",
      " Fwd IAT Min        0.173088      0.008726     0.175606      0.240342   \n",
      " Fwd IAT Std       -0.129448     -0.109156     0.262105      0.356484   \n",
      " Idle Max          -0.088044     -0.024293     0.492737      0.371006   \n",
      " Idle Min          -0.088044     -0.024293     0.492737      0.371006   \n",
      " Protocol           1.000000      0.035973    -0.018921     -0.135012   \n",
      " Source Port        0.035973      1.000000    -0.026468      0.005163   \n",
      "Active Mean        -0.018921     -0.026468     1.000000      0.109958   \n",
      "Bwd IAT Mean       -0.135012      0.005163     0.109958      1.000000   \n",
      "Fwd IAT Mean        0.098245     -0.050834     0.256745      0.382519   \n",
      "Idle Mean          -0.088044     -0.024293     0.492737      0.371006   \n",
      "\n",
      "                   Fwd IAT Mean  Idle Mean  \n",
      " Active Max            0.256745   0.492737  \n",
      " Active Min            0.256745   0.492737  \n",
      " Bwd IAT Max           0.237350   0.612379  \n",
      " Bwd IAT Min           0.309755   0.197446  \n",
      " Bwd IAT Std           0.220357   0.541561  \n",
      " Destination Port      0.049323  -0.000244  \n",
      " Flow Bytes/s         -0.013654  -0.006278  \n",
      " Flow Duration         0.274664   0.303077  \n",
      " Flow IAT Max          0.664807   0.764341  \n",
      " Flow IAT Mean         0.874280   0.377040  \n",
      " Flow IAT Min          0.645880   0.161507  \n",
      " Flow IAT Std          0.618640   0.613221  \n",
      " Flow Packets/s       -0.004070  -0.002070  \n",
      " Fwd IAT Max           0.691974   0.759065  \n",
      " Fwd IAT Min           0.864199   0.232042  \n",
      " Fwd IAT Std           0.484186   0.664722  \n",
      " Idle Max              0.467348   1.000000  \n",
      " Idle Min              0.467348   1.000000  \n",
      " Protocol              0.098245  -0.088044  \n",
      " Source Port          -0.050834  -0.024293  \n",
      "Active Mean            0.256745   0.492737  \n",
      "Bwd IAT Mean           0.382519   0.371006  \n",
      "Fwd IAT Mean           1.000000   0.467348  \n",
      "Idle Mean              0.467348   1.000000  \n",
      "\n",
      "[24 rows x 24 columns]\n"
     ]
    }
   ],
   "source": [
    "correlation_matrix = df[numeric_features].corr()\n",
    "print(correlation_matrix)"
   ]
  },
  {
   "cell_type": "code",
   "execution_count": 17,
   "metadata": {},
   "outputs": [
    {
     "name": "stdout",
     "output_type": "stream",
     "text": [
      "Feature altamente correlate: {'Active Mean', ' Bwd IAT Std', ' Flow IAT Std', ' Fwd IAT Max', ' Idle Min', 'Idle Mean', ' Fwd IAT Std', ' Flow IAT Min', 'Bwd IAT Mean', 'Fwd IAT Mean', ' Active Min'}\n"
     ]
    }
   ],
   "source": [
    "def correlation(df, threshold):\n",
    "    col_corr = set()  \n",
    "    corr_matrix = df.corr()\n",
    "    for i in range(len(corr_matrix.columns)):\n",
    "        for j in range(i):\n",
    "            if abs(corr_matrix.iloc[i, j]) > threshold:\n",
    "                colname = corr_matrix.columns[i]\n",
    "                col_corr.add(colname)\n",
    "    return col_corr\n",
    "\n",
    "highly_correlated_features = correlation(df[numeric_features], 0.8)\n",
    "print(\"Feature altamente correlate:\", highly_correlated_features)"
   ]
  },
  {
   "cell_type": "code",
   "execution_count": 18,
   "metadata": {},
   "outputs": [],
   "source": [
    "df.drop(columns=highly_correlated_features, inplace=True)"
   ]
  },
  {
   "cell_type": "code",
   "execution_count": 19,
   "metadata": {},
   "outputs": [],
   "source": [
    "top_n_categories = 25\n",
    "for column in categorical_features:\n",
    "    top_categories = df[column].value_counts().nlargest(top_n_categories).index\n",
    "    df[column] = df[column].where(df[column].isin(top_categories), 'Other')"
   ]
  },
  {
   "cell_type": "code",
   "execution_count": 20,
   "metadata": {},
   "outputs": [
    {
     "name": "stderr",
     "output_type": "stream",
     "text": [
      "c:\\Users\\Tommaso\\Desktop\\uni\\Hackaton\\.conda\\lib\\site-packages\\sklearn\\preprocessing\\_encoders.py:975: FutureWarning: `sparse` was renamed to `sparse_output` in version 1.2 and will be removed in 1.4. `sparse_output` is ignored unless you leave `sparse` to its default value.\n",
      "  warnings.warn(\n"
     ]
    }
   ],
   "source": [
    "encoder = OneHotEncoder(sparse=False, drop='first') \n",
    "df_encoded = pd.DataFrame(encoder.fit_transform(df[categorical_features]), columns=encoder.get_feature_names_out(categorical_features))\n",
    "\n",
    "df = pd.concat([df, df_encoded], axis=1)\n",
    "\n",
    "df.drop(categorical_features, axis=1, inplace=True)"
   ]
  },
  {
   "cell_type": "code",
   "execution_count": 21,
   "metadata": {},
   "outputs": [
    {
     "name": "stdout",
     "output_type": "stream",
     "text": [
      "(67834, 64)\n"
     ]
    }
   ],
   "source": [
    "print(df.shape)"
   ]
  },
  {
   "cell_type": "code",
   "execution_count": 22,
   "metadata": {},
   "outputs": [],
   "source": [
    "X_train, X_test, y_train, y_test = train_test_split(\n",
    "    df.drop('label', axis=1), df['label'], test_size=0.2, random_state=42\n",
    ")"
   ]
  },
  {
   "cell_type": "code",
   "execution_count": 23,
   "metadata": {},
   "outputs": [],
   "source": [
    "smote = SMOTE(random_state=42)\n",
    "X_train_resampled, y_train_resampled = smote.fit_resample(X_train, y_train)"
   ]
  },
  {
   "cell_type": "code",
   "execution_count": 24,
   "metadata": {},
   "outputs": [
    {
     "name": "stdout",
     "output_type": "stream",
     "text": [
      "Numero di campioni per classe:\n",
      "label\n",
      "nonTOR    47794\n",
      "TOR       47794\n",
      "Name: count, dtype: int64\n"
     ]
    }
   ],
   "source": [
    "df_balanced = pd.DataFrame(X_train_resampled, columns=X_train.columns)\n",
    "df_balanced['label'] = y_train_resampled\n",
    "\n",
    "class_counts = df_balanced['label'].value_counts()\n",
    "\n",
    "print(\"Numero di campioni per classe:\")\n",
    "print(class_counts)"
   ]
  },
  {
   "cell_type": "code",
   "execution_count": 25,
   "metadata": {},
   "outputs": [
    {
     "name": "stdout",
     "output_type": "stream",
     "text": [
      "(95588, 63)\n"
     ]
    }
   ],
   "source": [
    "print(X_train_resampled.shape)"
   ]
  },
  {
   "cell_type": "code",
   "execution_count": 26,
   "metadata": {},
   "outputs": [],
   "source": [
    "n_samples = len(X_train_resampled)  \n",
    "\n",
    "max_samples = int(1 * n_samples)"
   ]
  },
  {
   "cell_type": "code",
   "execution_count": 87,
   "metadata": {},
   "outputs": [],
   "source": [
    "model = IsolationForest(contamination=0.5, n_estimators=1000, random_state=42, max_samples=max_samples, max_features=0.8,  n_jobs=-1)"
   ]
  },
  {
   "cell_type": "code",
   "execution_count": 88,
   "metadata": {},
   "outputs": [
    {
     "data": {
      "text/html": [
       "<style>#sk-container-id-12 {color: black;}#sk-container-id-12 pre{padding: 0;}#sk-container-id-12 div.sk-toggleable {background-color: white;}#sk-container-id-12 label.sk-toggleable__label {cursor: pointer;display: block;width: 100%;margin-bottom: 0;padding: 0.3em;box-sizing: border-box;text-align: center;}#sk-container-id-12 label.sk-toggleable__label-arrow:before {content: \"▸\";float: left;margin-right: 0.25em;color: #696969;}#sk-container-id-12 label.sk-toggleable__label-arrow:hover:before {color: black;}#sk-container-id-12 div.sk-estimator:hover label.sk-toggleable__label-arrow:before {color: black;}#sk-container-id-12 div.sk-toggleable__content {max-height: 0;max-width: 0;overflow: hidden;text-align: left;background-color: #f0f8ff;}#sk-container-id-12 div.sk-toggleable__content pre {margin: 0.2em;color: black;border-radius: 0.25em;background-color: #f0f8ff;}#sk-container-id-12 input.sk-toggleable__control:checked~div.sk-toggleable__content {max-height: 200px;max-width: 100%;overflow: auto;}#sk-container-id-12 input.sk-toggleable__control:checked~label.sk-toggleable__label-arrow:before {content: \"▾\";}#sk-container-id-12 div.sk-estimator input.sk-toggleable__control:checked~label.sk-toggleable__label {background-color: #d4ebff;}#sk-container-id-12 div.sk-label input.sk-toggleable__control:checked~label.sk-toggleable__label {background-color: #d4ebff;}#sk-container-id-12 input.sk-hidden--visually {border: 0;clip: rect(1px 1px 1px 1px);clip: rect(1px, 1px, 1px, 1px);height: 1px;margin: -1px;overflow: hidden;padding: 0;position: absolute;width: 1px;}#sk-container-id-12 div.sk-estimator {font-family: monospace;background-color: #f0f8ff;border: 1px dotted black;border-radius: 0.25em;box-sizing: border-box;margin-bottom: 0.5em;}#sk-container-id-12 div.sk-estimator:hover {background-color: #d4ebff;}#sk-container-id-12 div.sk-parallel-item::after {content: \"\";width: 100%;border-bottom: 1px solid gray;flex-grow: 1;}#sk-container-id-12 div.sk-label:hover label.sk-toggleable__label {background-color: #d4ebff;}#sk-container-id-12 div.sk-serial::before {content: \"\";position: absolute;border-left: 1px solid gray;box-sizing: border-box;top: 0;bottom: 0;left: 50%;z-index: 0;}#sk-container-id-12 div.sk-serial {display: flex;flex-direction: column;align-items: center;background-color: white;padding-right: 0.2em;padding-left: 0.2em;position: relative;}#sk-container-id-12 div.sk-item {position: relative;z-index: 1;}#sk-container-id-12 div.sk-parallel {display: flex;align-items: stretch;justify-content: center;background-color: white;position: relative;}#sk-container-id-12 div.sk-item::before, #sk-container-id-12 div.sk-parallel-item::before {content: \"\";position: absolute;border-left: 1px solid gray;box-sizing: border-box;top: 0;bottom: 0;left: 50%;z-index: -1;}#sk-container-id-12 div.sk-parallel-item {display: flex;flex-direction: column;z-index: 1;position: relative;background-color: white;}#sk-container-id-12 div.sk-parallel-item:first-child::after {align-self: flex-end;width: 50%;}#sk-container-id-12 div.sk-parallel-item:last-child::after {align-self: flex-start;width: 50%;}#sk-container-id-12 div.sk-parallel-item:only-child::after {width: 0;}#sk-container-id-12 div.sk-dashed-wrapped {border: 1px dashed gray;margin: 0 0.4em 0.5em 0.4em;box-sizing: border-box;padding-bottom: 0.4em;background-color: white;}#sk-container-id-12 div.sk-label label {font-family: monospace;font-weight: bold;display: inline-block;line-height: 1.2em;}#sk-container-id-12 div.sk-label-container {text-align: center;}#sk-container-id-12 div.sk-container {/* jupyter's `normalize.less` sets `[hidden] { display: none; }` but bootstrap.min.css set `[hidden] { display: none !important; }` so we also need the `!important` here to be able to override the default hidden behavior on the sphinx rendered scikit-learn.org. See: https://github.com/scikit-learn/scikit-learn/issues/21755 */display: inline-block !important;position: relative;}#sk-container-id-12 div.sk-text-repr-fallback {display: none;}</style><div id=\"sk-container-id-12\" class=\"sk-top-container\"><div class=\"sk-text-repr-fallback\"><pre>IsolationForest(contamination=0.5, max_features=0.8, max_samples=95588,\n",
       "                n_estimators=1000, n_jobs=-1, random_state=42)</pre><b>In a Jupyter environment, please rerun this cell to show the HTML representation or trust the notebook. <br />On GitHub, the HTML representation is unable to render, please try loading this page with nbviewer.org.</b></div><div class=\"sk-container\" hidden><div class=\"sk-item\"><div class=\"sk-estimator sk-toggleable\"><input class=\"sk-toggleable__control sk-hidden--visually\" id=\"sk-estimator-id-12\" type=\"checkbox\" checked><label for=\"sk-estimator-id-12\" class=\"sk-toggleable__label sk-toggleable__label-arrow\">IsolationForest</label><div class=\"sk-toggleable__content\"><pre>IsolationForest(contamination=0.5, max_features=0.8, max_samples=95588,\n",
       "                n_estimators=1000, n_jobs=-1, random_state=42)</pre></div></div></div></div></div>"
      ],
      "text/plain": [
       "IsolationForest(contamination=0.5, max_features=0.8, max_samples=95588,\n",
       "                n_estimators=1000, n_jobs=-1, random_state=42)"
      ]
     },
     "execution_count": 88,
     "metadata": {},
     "output_type": "execute_result"
    }
   ],
   "source": [
    "model.fit(X_train_resampled)"
   ]
  },
  {
   "cell_type": "code",
   "execution_count": 89,
   "metadata": {},
   "outputs": [],
   "source": [
    "predictions = model.predict(X_test)"
   ]
  },
  {
   "cell_type": "code",
   "execution_count": 90,
   "metadata": {},
   "outputs": [],
   "source": [
    "label_mapping = {'TOR': 1, 'nonTOR': -1}\n",
    "y_test_numeric = y_test.map(label_mapping)"
   ]
  },
  {
   "cell_type": "code",
   "execution_count": 91,
   "metadata": {},
   "outputs": [
    {
     "name": "stdout",
     "output_type": "stream",
     "text": [
      "Confusion Matrix:\n",
      "[[10364  1632]\n",
      " [  152  1419]]\n",
      "\n",
      "Classification Report:\n",
      "              precision    recall  f1-score   support\n",
      "\n",
      "          -1       0.99      0.86      0.92     11996\n",
      "           1       0.47      0.90      0.61      1571\n",
      "\n",
      "    accuracy                           0.87     13567\n",
      "   macro avg       0.73      0.88      0.77     13567\n",
      "weighted avg       0.93      0.87      0.89     13567\n",
      "\n"
     ]
    }
   ],
   "source": [
    "print(\"Confusion Matrix:\")\n",
    "print(confusion_matrix(y_test_numeric, predictions))\n",
    "\n",
    "print(\"\\nClassification Report:\")\n",
    "print(classification_report(y_test_numeric, predictions))"
   ]
  },
  {
   "cell_type": "code",
   "execution_count": 93,
   "metadata": {},
   "outputs": [
    {
     "data": {
      "image/png": "[encoded data removed]",
      "text/plain": [
       "<Figure size 640x480 with 2 Axes>"
      ]
     },
     "metadata": {},
     "output_type": "display_data"
    }
   ],
   "source": [
    "disp = ConfusionMatrixDisplay(confusion_matrix=confusion_matrix(y_test_numeric, predictions), display_labels=['nonTOR', 'TOR'])\n",
    "disp.plot()\n",
    "disp.title = 'Confusion Matrix'\n",
    "plt.show()"
   ]
  },
  {
   "cell_type": "markdown",
   "metadata": {},
   "source": [
    "Addestro solo su traffico legittimo"
   ]
  },
  {
   "cell_type": "code",
   "execution_count": 94,
   "metadata": {},
   "outputs": [],
   "source": [
    "X_train_nonTOR = X_train[y_train == 'nonTOR']"
   ]
  },
  {
   "cell_type": "code",
   "execution_count": 95,
   "metadata": {},
   "outputs": [],
   "source": [
    "model = IsolationForest(random_state=42)"
   ]
  },
  {
   "cell_type": "code",
   "execution_count": 96,
   "metadata": {},
   "outputs": [
    {
     "data": {
      "text/html": [
       "<style>#sk-container-id-13 {color: black;}#sk-container-id-13 pre{padding: 0;}#sk-container-id-13 div.sk-toggleable {background-color: white;}#sk-container-id-13 label.sk-toggleable__label {cursor: pointer;display: block;width: 100%;margin-bottom: 0;padding: 0.3em;box-sizing: border-box;text-align: center;}#sk-container-id-13 label.sk-toggleable__label-arrow:before {content: \"▸\";float: left;margin-right: 0.25em;color: #696969;}#sk-container-id-13 label.sk-toggleable__label-arrow:hover:before {color: black;}#sk-container-id-13 div.sk-estimator:hover label.sk-toggleable__label-arrow:before {color: black;}#sk-container-id-13 div.sk-toggleable__content {max-height: 0;max-width: 0;overflow: hidden;text-align: left;background-color: #f0f8ff;}#sk-container-id-13 div.sk-toggleable__content pre {margin: 0.2em;color: black;border-radius: 0.25em;background-color: #f0f8ff;}#sk-container-id-13 input.sk-toggleable__control:checked~div.sk-toggleable__content {max-height: 200px;max-width: 100%;overflow: auto;}#sk-container-id-13 input.sk-toggleable__control:checked~label.sk-toggleable__label-arrow:before {content: \"▾\";}#sk-container-id-13 div.sk-estimator input.sk-toggleable__control:checked~label.sk-toggleable__label {background-color: #d4ebff;}#sk-container-id-13 div.sk-label input.sk-toggleable__control:checked~label.sk-toggleable__label {background-color: #d4ebff;}#sk-container-id-13 input.sk-hidden--visually {border: 0;clip: rect(1px 1px 1px 1px);clip: rect(1px, 1px, 1px, 1px);height: 1px;margin: -1px;overflow: hidden;padding: 0;position: absolute;width: 1px;}#sk-container-id-13 div.sk-estimator {font-family: monospace;background-color: #f0f8ff;border: 1px dotted black;border-radius: 0.25em;box-sizing: border-box;margin-bottom: 0.5em;}#sk-container-id-13 div.sk-estimator:hover {background-color: #d4ebff;}#sk-container-id-13 div.sk-parallel-item::after {content: \"\";width: 100%;border-bottom: 1px solid gray;flex-grow: 1;}#sk-container-id-13 div.sk-label:hover label.sk-toggleable__label {background-color: #d4ebff;}#sk-container-id-13 div.sk-serial::before {content: \"\";position: absolute;border-left: 1px solid gray;box-sizing: border-box;top: 0;bottom: 0;left: 50%;z-index: 0;}#sk-container-id-13 div.sk-serial {display: flex;flex-direction: column;align-items: center;background-color: white;padding-right: 0.2em;padding-left: 0.2em;position: relative;}#sk-container-id-13 div.sk-item {position: relative;z-index: 1;}#sk-container-id-13 div.sk-parallel {display: flex;align-items: stretch;justify-content: center;background-color: white;position: relative;}#sk-container-id-13 div.sk-item::before, #sk-container-id-13 div.sk-parallel-item::before {content: \"\";position: absolute;border-left: 1px solid gray;box-sizing: border-box;top: 0;bottom: 0;left: 50%;z-index: -1;}#sk-container-id-13 div.sk-parallel-item {display: flex;flex-direction: column;z-index: 1;position: relative;background-color: white;}#sk-container-id-13 div.sk-parallel-item:first-child::after {align-self: flex-end;width: 50%;}#sk-container-id-13 div.sk-parallel-item:last-child::after {align-self: flex-start;width: 50%;}#sk-container-id-13 div.sk-parallel-item:only-child::after {width: 0;}#sk-container-id-13 div.sk-dashed-wrapped {border: 1px dashed gray;margin: 0 0.4em 0.5em 0.4em;box-sizing: border-box;padding-bottom: 0.4em;background-color: white;}#sk-container-id-13 div.sk-label label {font-family: monospace;font-weight: bold;display: inline-block;line-height: 1.2em;}#sk-container-id-13 div.sk-label-container {text-align: center;}#sk-container-id-13 div.sk-container {/* jupyter's `normalize.less` sets `[hidden] { display: none; }` but bootstrap.min.css set `[hidden] { display: none !important; }` so we also need the `!important` here to be able to override the default hidden behavior on the sphinx rendered scikit-learn.org. See: https://github.com/scikit-learn/scikit-learn/issues/21755 */display: inline-block !important;position: relative;}#sk-container-id-13 div.sk-text-repr-fallback {display: none;}</style><div id=\"sk-container-id-13\" class=\"sk-top-container\"><div class=\"sk-text-repr-fallback\"><pre>IsolationForest(random_state=42)</pre><b>In a Jupyter environment, please rerun this cell to show the HTML representation or trust the notebook. <br />On GitHub, the HTML representation is unable to render, please try loading this page with nbviewer.org.</b></div><div class=\"sk-container\" hidden><div class=\"sk-item\"><div class=\"sk-estimator sk-toggleable\"><input class=\"sk-toggleable__control sk-hidden--visually\" id=\"sk-estimator-id-13\" type=\"checkbox\" checked><label for=\"sk-estimator-id-13\" class=\"sk-toggleable__label sk-toggleable__label-arrow\">IsolationForest</label><div class=\"sk-toggleable__content\"><pre>IsolationForest(random_state=42)</pre></div></div></div></div></div>"
      ],
      "text/plain": [
       "IsolationForest(random_state=42)"
      ]
     },
     "execution_count": 96,
     "metadata": {},
     "output_type": "execute_result"
    }
   ],
   "source": [
    "model.fit(X_train_nonTOR)"
   ]
  },
  {
   "cell_type": "code",
   "execution_count": 97,
   "metadata": {},
   "outputs": [],
   "source": [
    "predictions = model.predict(X_test)"
   ]
  },
  {
   "cell_type": "code",
   "execution_count": 98,
   "metadata": {},
   "outputs": [],
   "source": [
    "label_mapping = {'TOR': 1, 'nonTOR': -1}\n",
    "y_test_numeric = y_test.map(label_mapping)"
   ]
  },
  {
   "cell_type": "code",
   "execution_count": 99,
   "metadata": {},
   "outputs": [
    {
     "name": "stdout",
     "output_type": "stream",
     "text": [
      "Confusion Matrix:\n",
      "[[   63 11933]\n",
      " [    0  1571]]\n",
      "\n",
      "Classification Report:\n",
      "              precision    recall  f1-score   support\n",
      "\n",
      "          -1       1.00      0.01      0.01     11996\n",
      "           1       0.12      1.00      0.21      1571\n",
      "\n",
      "    accuracy                           0.12     13567\n",
      "   macro avg       0.56      0.50      0.11     13567\n",
      "weighted avg       0.90      0.12      0.03     13567\n",
      "\n"
     ]
    }
   ],
   "source": [
    "print(\"Confusion Matrix:\")\n",
    "print(confusion_matrix(y_test_numeric, predictions))\n",
    "\n",
    "print(\"\\nClassification Report:\")\n",
    "print(classification_report(y_test_numeric, predictions))"
   ]
  },
  {
   "cell_type": "code",
   "execution_count": 100,
   "metadata": {},
   "outputs": [
    {
     "data": {
      "image/png": "[encoded data removed]",
      "text/plain": [
       "<Figure size 640x480 with 2 Axes>"
      ]
     },
     "metadata": {},
     "output_type": "display_data"
    }
   ],
   "source": [
    "disp = ConfusionMatrixDisplay(confusion_matrix=confusion_matrix(y_test_numeric,predictions), display_labels=['nonTOR', 'TOR'])\n",
    "disp.plot()\n",
    "disp.title = 'Confusion Matrix'\n",
    "plt.show()"
   ]
  },
  {
   "cell_type": "markdown",
   "metadata": {},
   "source": [
    "versione senza bilanciamento"
   ]
  },
  {
   "cell_type": "code",
   "execution_count": 81,
   "metadata": {},
   "outputs": [],
   "source": [
    "model = IsolationForest(contamination=0.5, n_jobs=-1)"
   ]
  },
  {
   "cell_type": "code",
   "execution_count": 82,
   "metadata": {},
   "outputs": [
    {
     "data": {
      "text/html": [
       "<style>#sk-container-id-11 {color: black;}#sk-container-id-11 pre{padding: 0;}#sk-container-id-11 div.sk-toggleable {background-color: white;}#sk-container-id-11 label.sk-toggleable__label {cursor: pointer;display: block;width: 100%;margin-bottom: 0;padding: 0.3em;box-sizing: border-box;text-align: center;}#sk-container-id-11 label.sk-toggleable__label-arrow:before {content: \"▸\";float: left;margin-right: 0.25em;color: #696969;}#sk-container-id-11 label.sk-toggleable__label-arrow:hover:before {color: black;}#sk-container-id-11 div.sk-estimator:hover label.sk-toggleable__label-arrow:before {color: black;}#sk-container-id-11 div.sk-toggleable__content {max-height: 0;max-width: 0;overflow: hidden;text-align: left;background-color: #f0f8ff;}#sk-container-id-11 div.sk-toggleable__content pre {margin: 0.2em;color: black;border-radius: 0.25em;background-color: #f0f8ff;}#sk-container-id-11 input.sk-toggleable__control:checked~div.sk-toggleable__content {max-height: 200px;max-width: 100%;overflow: auto;}#sk-container-id-11 input.sk-toggleable__control:checked~label.sk-toggleable__label-arrow:before {content: \"▾\";}#sk-container-id-11 div.sk-estimator input.sk-toggleable__control:checked~label.sk-toggleable__label {background-color: #d4ebff;}#sk-container-id-11 div.sk-label input.sk-toggleable__control:checked~label.sk-toggleable__label {background-color: #d4ebff;}#sk-container-id-11 input.sk-hidden--visually {border: 0;clip: rect(1px 1px 1px 1px);clip: rect(1px, 1px, 1px, 1px);height: 1px;margin: -1px;overflow: hidden;padding: 0;position: absolute;width: 1px;}#sk-container-id-11 div.sk-estimator {font-family: monospace;background-color: #f0f8ff;border: 1px dotted black;border-radius: 0.25em;box-sizing: border-box;margin-bottom: 0.5em;}#sk-container-id-11 div.sk-estimator:hover {background-color: #d4ebff;}#sk-container-id-11 div.sk-parallel-item::after {content: \"\";width: 100%;border-bottom: 1px solid gray;flex-grow: 1;}#sk-container-id-11 div.sk-label:hover label.sk-toggleable__label {background-color: #d4ebff;}#sk-container-id-11 div.sk-serial::before {content: \"\";position: absolute;border-left: 1px solid gray;box-sizing: border-box;top: 0;bottom: 0;left: 50%;z-index: 0;}#sk-container-id-11 div.sk-serial {display: flex;flex-direction: column;align-items: center;background-color: white;padding-right: 0.2em;padding-left: 0.2em;position: relative;}#sk-container-id-11 div.sk-item {position: relative;z-index: 1;}#sk-container-id-11 div.sk-parallel {display: flex;align-items: stretch;justify-content: center;background-color: white;position: relative;}#sk-container-id-11 div.sk-item::before, #sk-container-id-11 div.sk-parallel-item::before {content: \"\";position: absolute;border-left: 1px solid gray;box-sizing: border-box;top: 0;bottom: 0;left: 50%;z-index: -1;}#sk-container-id-11 div.sk-parallel-item {display: flex;flex-direction: column;z-index: 1;position: relative;background-color: white;}#sk-container-id-11 div.sk-parallel-item:first-child::after {align-self: flex-end;width: 50%;}#sk-container-id-11 div.sk-parallel-item:last-child::after {align-self: flex-start;width: 50%;}#sk-container-id-11 div.sk-parallel-item:only-child::after {width: 0;}#sk-container-id-11 div.sk-dashed-wrapped {border: 1px dashed gray;margin: 0 0.4em 0.5em 0.4em;box-sizing: border-box;padding-bottom: 0.4em;background-color: white;}#sk-container-id-11 div.sk-label label {font-family: monospace;font-weight: bold;display: inline-block;line-height: 1.2em;}#sk-container-id-11 div.sk-label-container {text-align: center;}#sk-container-id-11 div.sk-container {/* jupyter's `normalize.less` sets `[hidden] { display: none; }` but bootstrap.min.css set `[hidden] { display: none !important; }` so we also need the `!important` here to be able to override the default hidden behavior on the sphinx rendered scikit-learn.org. See: https://github.com/scikit-learn/scikit-learn/issues/21755 */display: inline-block !important;position: relative;}#sk-container-id-11 div.sk-text-repr-fallback {display: none;}</style><div id=\"sk-container-id-11\" class=\"sk-top-container\"><div class=\"sk-text-repr-fallback\"><pre>IsolationForest(contamination=0.5, n_jobs=-1)</pre><b>In a Jupyter environment, please rerun this cell to show the HTML representation or trust the notebook. <br />On GitHub, the HTML representation is unable to render, please try loading this page with nbviewer.org.</b></div><div class=\"sk-container\" hidden><div class=\"sk-item\"><div class=\"sk-estimator sk-toggleable\"><input class=\"sk-toggleable__control sk-hidden--visually\" id=\"sk-estimator-id-11\" type=\"checkbox\" checked><label for=\"sk-estimator-id-11\" class=\"sk-toggleable__label sk-toggleable__label-arrow\">IsolationForest</label><div class=\"sk-toggleable__content\"><pre>IsolationForest(contamination=0.5, n_jobs=-1)</pre></div></div></div></div></div>"
      ],
      "text/plain": [
       "IsolationForest(contamination=0.5, n_jobs=-1)"
      ]
     },
     "execution_count": 82,
     "metadata": {},
     "output_type": "execute_result"
    }
   ],
   "source": [
    "model.fit(X_train)"
   ]
  },
  {
   "cell_type": "code",
   "execution_count": 83,
   "metadata": {},
   "outputs": [],
   "source": [
    "predictions = model.predict(X_test)"
   ]
  },
  {
   "cell_type": "code",
   "execution_count": 84,
   "metadata": {},
   "outputs": [],
   "source": [
    "label_mapping = {'TOR': 1, 'nonTOR': -1}\n",
    "y_test_numeric = y_test.map(label_mapping)"
   ]
  },
  {
   "cell_type": "code",
   "execution_count": 85,
   "metadata": {},
   "outputs": [
    {
     "name": "stdout",
     "output_type": "stream",
     "text": [
      "Confusion Matrix:\n",
      "[[6365 5631]\n",
      " [ 426 1145]]\n",
      "\n",
      "Classification Report:\n",
      "              precision    recall  f1-score   support\n",
      "\n",
      "          -1       0.94      0.53      0.68     11996\n",
      "           1       0.17      0.73      0.27      1571\n",
      "\n",
      "    accuracy                           0.55     13567\n",
      "   macro avg       0.55      0.63      0.48     13567\n",
      "weighted avg       0.85      0.55      0.63     13567\n",
      "\n"
     ]
    }
   ],
   "source": [
    "print(\"Confusion Matrix:\")\n",
    "print(confusion_matrix(y_test_numeric, predictions))\n",
    "\n",
    "print(\"\\nClassification Report:\")\n",
    "print(classification_report(y_test_numeric, predictions))"
   ]
  },
  {
   "cell_type": "code",
   "execution_count": 86,
   "metadata": {},
   "outputs": [
    {
     "data": {
      "image/png": "[encoded data removed]",
      "text/plain": [
       "<Figure size 640x480 with 2 Axes>"
      ]
     },
     "metadata": {},
     "output_type": "display_data"
    }
   ],
   "source": [
    "disp = ConfusionMatrixDisplay(confusion_matrix=confusion_matrix(y_test_numeric,predictions), display_labels=['nonTOR', 'TOR'])\n",
    "disp.plot()\n",
    "disp.title = 'Confusion Matrix'\n",
    "plt.show()"
   ]
  },
  {
   "cell_type": "markdown",
   "metadata": {},
   "source": [
    "Provo senza contamination"
   ]
  },
  {
   "cell_type": "code",
   "execution_count": 43,
   "metadata": {},
   "outputs": [],
   "source": [
    "model = IsolationForest(random_state=42, n_jobs=-1)"
   ]
  },
  {
   "cell_type": "code",
   "execution_count": 44,
   "metadata": {},
   "outputs": [
    {
     "data": {
      "text/html": [
       "<style>#sk-container-id-4 {color: black;}#sk-container-id-4 pre{padding: 0;}#sk-container-id-4 div.sk-toggleable {background-color: white;}#sk-container-id-4 label.sk-toggleable__label {cursor: pointer;display: block;width: 100%;margin-bottom: 0;padding: 0.3em;box-sizing: border-box;text-align: center;}#sk-container-id-4 label.sk-toggleable__label-arrow:before {content: \"▸\";float: left;margin-right: 0.25em;color: #696969;}#sk-container-id-4 label.sk-toggleable__label-arrow:hover:before {color: black;}#sk-container-id-4 div.sk-estimator:hover label.sk-toggleable__label-arrow:before {color: black;}#sk-container-id-4 div.sk-toggleable__content {max-height: 0;max-width: 0;overflow: hidden;text-align: left;background-color: #f0f8ff;}#sk-container-id-4 div.sk-toggleable__content pre {margin: 0.2em;color: black;border-radius: 0.25em;background-color: #f0f8ff;}#sk-container-id-4 input.sk-toggleable__control:checked~div.sk-toggleable__content {max-height: 200px;max-width: 100%;overflow: auto;}#sk-container-id-4 input.sk-toggleable__control:checked~label.sk-toggleable__label-arrow:before {content: \"▾\";}#sk-container-id-4 div.sk-estimator input.sk-toggleable__control:checked~label.sk-toggleable__label {background-color: #d4ebff;}#sk-container-id-4 div.sk-label input.sk-toggleable__control:checked~label.sk-toggleable__label {background-color: #d4ebff;}#sk-container-id-4 input.sk-hidden--visually {border: 0;clip: rect(1px 1px 1px 1px);clip: rect(1px, 1px, 1px, 1px);height: 1px;margin: -1px;overflow: hidden;padding: 0;position: absolute;width: 1px;}#sk-container-id-4 div.sk-estimator {font-family: monospace;background-color: #f0f8ff;border: 1px dotted black;border-radius: 0.25em;box-sizing: border-box;margin-bottom: 0.5em;}#sk-container-id-4 div.sk-estimator:hover {background-color: #d4ebff;}#sk-container-id-4 div.sk-parallel-item::after {content: \"\";width: 100%;border-bottom: 1px solid gray;flex-grow: 1;}#sk-container-id-4 div.sk-label:hover label.sk-toggleable__label {background-color: #d4ebff;}#sk-container-id-4 div.sk-serial::before {content: \"\";position: absolute;border-left: 1px solid gray;box-sizing: border-box;top: 0;bottom: 0;left: 50%;z-index: 0;}#sk-container-id-4 div.sk-serial {display: flex;flex-direction: column;align-items: center;background-color: white;padding-right: 0.2em;padding-left: 0.2em;position: relative;}#sk-container-id-4 div.sk-item {position: relative;z-index: 1;}#sk-container-id-4 div.sk-parallel {display: flex;align-items: stretch;justify-content: center;background-color: white;position: relative;}#sk-container-id-4 div.sk-item::before, #sk-container-id-4 div.sk-parallel-item::before {content: \"\";position: absolute;border-left: 1px solid gray;box-sizing: border-box;top: 0;bottom: 0;left: 50%;z-index: -1;}#sk-container-id-4 div.sk-parallel-item {display: flex;flex-direction: column;z-index: 1;position: relative;background-color: white;}#sk-container-id-4 div.sk-parallel-item:first-child::after {align-self: flex-end;width: 50%;}#sk-container-id-4 div.sk-parallel-item:last-child::after {align-self: flex-start;width: 50%;}#sk-container-id-4 div.sk-parallel-item:only-child::after {width: 0;}#sk-container-id-4 div.sk-dashed-wrapped {border: 1px dashed gray;margin: 0 0.4em 0.5em 0.4em;box-sizing: border-box;padding-bottom: 0.4em;background-color: white;}#sk-container-id-4 div.sk-label label {font-family: monospace;font-weight: bold;display: inline-block;line-height: 1.2em;}#sk-container-id-4 div.sk-label-container {text-align: center;}#sk-container-id-4 div.sk-container {/* jupyter's `normalize.less` sets `[hidden] { display: none; }` but bootstrap.min.css set `[hidden] { display: none !important; }` so we also need the `!important` here to be able to override the default hidden behavior on the sphinx rendered scikit-learn.org. See: https://github.com/scikit-learn/scikit-learn/issues/21755 */display: inline-block !important;position: relative;}#sk-container-id-4 div.sk-text-repr-fallback {display: none;}</style><div id=\"sk-container-id-4\" class=\"sk-top-container\"><div class=\"sk-text-repr-fallback\"><pre>IsolationForest(n_jobs=-1, random_state=42)</pre><b>In a Jupyter environment, please rerun this cell to show the HTML representation or trust the notebook. <br />On GitHub, the HTML representation is unable to render, please try loading this page with nbviewer.org.</b></div><div class=\"sk-container\" hidden><div class=\"sk-item\"><div class=\"sk-estimator sk-toggleable\"><input class=\"sk-toggleable__control sk-hidden--visually\" id=\"sk-estimator-id-4\" type=\"checkbox\" checked><label for=\"sk-estimator-id-4\" class=\"sk-toggleable__label sk-toggleable__label-arrow\">IsolationForest</label><div class=\"sk-toggleable__content\"><pre>IsolationForest(n_jobs=-1, random_state=42)</pre></div></div></div></div></div>"
      ],
      "text/plain": [
       "IsolationForest(n_jobs=-1, random_state=42)"
      ]
     },
     "execution_count": 44,
     "metadata": {},
     "output_type": "execute_result"
    }
   ],
   "source": [
    "model.fit(X_train)"
   ]
  },
  {
   "cell_type": "code",
   "execution_count": 45,
   "metadata": {},
   "outputs": [],
   "source": [
    "predictions = model.predict(X_test)"
   ]
  },
  {
   "cell_type": "code",
   "execution_count": 46,
   "metadata": {},
   "outputs": [],
   "source": [
    "label_mapping = {'TOR': 1, 'nonTOR': -1}\n",
    "y_test_numeric = y_test.map(label_mapping)"
   ]
  },
  {
   "cell_type": "code",
   "execution_count": 47,
   "metadata": {},
   "outputs": [
    {
     "name": "stdout",
     "output_type": "stream",
     "text": [
      "Confusion Matrix:\n",
      "[[    9 11987]\n",
      " [    0  1571]]\n",
      "\n",
      "Classification Report:\n",
      "              precision    recall  f1-score   support\n",
      "\n",
      "          -1       1.00      0.00      0.00     11996\n",
      "           1       0.12      1.00      0.21      1571\n",
      "\n",
      "    accuracy                           0.12     13567\n",
      "   macro avg       0.56      0.50      0.10     13567\n",
      "weighted avg       0.90      0.12      0.03     13567\n",
      "\n"
     ]
    }
   ],
   "source": [
    "print(\"Confusion Matrix:\")\n",
    "print(confusion_matrix(y_test_numeric, predictions))\n",
    "\n",
    "print(\"\\nClassification Report:\")\n",
    "print(classification_report(y_test_numeric, predictions))"
   ]
  },
  {
   "cell_type": "markdown",
   "metadata": {},
   "source": [
    "feature selection"
   ]
  },
  {
   "cell_type": "code",
   "execution_count": 37,
   "metadata": {},
   "outputs": [],
   "source": [
    "selector = VarianceThreshold(threshold=0.01)"
   ]
  },
  {
   "cell_type": "code",
   "execution_count": 38,
   "metadata": {},
   "outputs": [],
   "source": [
    "X_train_selected = selector.fit_transform(X_train_resampled)"
   ]
  },
  {
   "cell_type": "code",
   "execution_count": 39,
   "metadata": {},
   "outputs": [
    {
     "name": "stdout",
     "output_type": "stream",
     "text": [
      "Feature selezionate: Index([' Source Port', ' Destination Port', ' Protocol', ' Flow Duration',\n",
      "       ' Flow Bytes/s', ' Flow Packets/s', ' Flow IAT Mean', ' Flow IAT Max',\n",
      "       ' Fwd IAT Min', ' Bwd IAT Max', ' Bwd IAT Min', ' Active Max',\n",
      "       ' Idle Max', 'Source IP_10.8.0.10', 'Source IP_10.8.0.14',\n",
      "       'Source IP_10.8.0.6', 'Source IP_10.8.8.130', 'Source IP_10.8.8.134',\n",
      "       'Source IP_10.8.8.138', 'Source IP_10.8.8.178',\n",
      "       'Source IP_131.202.240.102', 'Source IP_131.202.240.150',\n",
      "       'Source IP_131.202.240.242', 'Source IP_131.202.240.87',\n",
      "       'Source IP_131.202.243.49', 'Source IP_195.154.107.23',\n",
      "       'Source IP_198.52.200.39', 'Source IP_Other',\n",
      "       ' Destination IP_131.202.240.242', ' Destination IP_131.202.243.255',\n",
      "       ' Destination IP_131.202.244.3', ' Destination IP_131.202.244.5',\n",
      "       ' Destination IP_195.154.107.23', ' Destination IP_198.52.200.39',\n",
      "       ' Destination IP_198.7.63.141', ' Destination IP_224.0.0.252',\n",
      "       ' Destination IP_Other'],\n",
      "      dtype='object')\n"
     ]
    }
   ],
   "source": [
    "selected_features = X_train_resampled.columns[selector.get_support()]\n",
    "print(\"Feature selezionate:\", selected_features)"
   ]
  },
  {
   "cell_type": "code",
   "execution_count": 40,
   "metadata": {},
   "outputs": [
    {
     "data": {
      "text/html": [
       "<style>#sk-container-id-3 {color: black;}#sk-container-id-3 pre{padding: 0;}#sk-container-id-3 div.sk-toggleable {background-color: white;}#sk-container-id-3 label.sk-toggleable__label {cursor: pointer;display: block;width: 100%;margin-bottom: 0;padding: 0.3em;box-sizing: border-box;text-align: center;}#sk-container-id-3 label.sk-toggleable__label-arrow:before {content: \"▸\";float: left;margin-right: 0.25em;color: #696969;}#sk-container-id-3 label.sk-toggleable__label-arrow:hover:before {color: black;}#sk-container-id-3 div.sk-estimator:hover label.sk-toggleable__label-arrow:before {color: black;}#sk-container-id-3 div.sk-toggleable__content {max-height: 0;max-width: 0;overflow: hidden;text-align: left;background-color: #f0f8ff;}#sk-container-id-3 div.sk-toggleable__content pre {margin: 0.2em;color: black;border-radius: 0.25em;background-color: #f0f8ff;}#sk-container-id-3 input.sk-toggleable__control:checked~div.sk-toggleable__content {max-height: 200px;max-width: 100%;overflow: auto;}#sk-container-id-3 input.sk-toggleable__control:checked~label.sk-toggleable__label-arrow:before {content: \"▾\";}#sk-container-id-3 div.sk-estimator input.sk-toggleable__control:checked~label.sk-toggleable__label {background-color: #d4ebff;}#sk-container-id-3 div.sk-label input.sk-toggleable__control:checked~label.sk-toggleable__label {background-color: #d4ebff;}#sk-container-id-3 input.sk-hidden--visually {border: 0;clip: rect(1px 1px 1px 1px);clip: rect(1px, 1px, 1px, 1px);height: 1px;margin: -1px;overflow: hidden;padding: 0;position: absolute;width: 1px;}#sk-container-id-3 div.sk-estimator {font-family: monospace;background-color: #f0f8ff;border: 1px dotted black;border-radius: 0.25em;box-sizing: border-box;margin-bottom: 0.5em;}#sk-container-id-3 div.sk-estimator:hover {background-color: #d4ebff;}#sk-container-id-3 div.sk-parallel-item::after {content: \"\";width: 100%;border-bottom: 1px solid gray;flex-grow: 1;}#sk-container-id-3 div.sk-label:hover label.sk-toggleable__label {background-color: #d4ebff;}#sk-container-id-3 div.sk-serial::before {content: \"\";position: absolute;border-left: 1px solid gray;box-sizing: border-box;top: 0;bottom: 0;left: 50%;z-index: 0;}#sk-container-id-3 div.sk-serial {display: flex;flex-direction: column;align-items: center;background-color: white;padding-right: 0.2em;padding-left: 0.2em;position: relative;}#sk-container-id-3 div.sk-item {position: relative;z-index: 1;}#sk-container-id-3 div.sk-parallel {display: flex;align-items: stretch;justify-content: center;background-color: white;position: relative;}#sk-container-id-3 div.sk-item::before, #sk-container-id-3 div.sk-parallel-item::before {content: \"\";position: absolute;border-left: 1px solid gray;box-sizing: border-box;top: 0;bottom: 0;left: 50%;z-index: -1;}#sk-container-id-3 div.sk-parallel-item {display: flex;flex-direction: column;z-index: 1;position: relative;background-color: white;}#sk-container-id-3 div.sk-parallel-item:first-child::after {align-self: flex-end;width: 50%;}#sk-container-id-3 div.sk-parallel-item:last-child::after {align-self: flex-start;width: 50%;}#sk-container-id-3 div.sk-parallel-item:only-child::after {width: 0;}#sk-container-id-3 div.sk-dashed-wrapped {border: 1px dashed gray;margin: 0 0.4em 0.5em 0.4em;box-sizing: border-box;padding-bottom: 0.4em;background-color: white;}#sk-container-id-3 div.sk-label label {font-family: monospace;font-weight: bold;display: inline-block;line-height: 1.2em;}#sk-container-id-3 div.sk-label-container {text-align: center;}#sk-container-id-3 div.sk-container {/* jupyter's `normalize.less` sets `[hidden] { display: none; }` but bootstrap.min.css set `[hidden] { display: none !important; }` so we also need the `!important` here to be able to override the default hidden behavior on the sphinx rendered scikit-learn.org. See: https://github.com/scikit-learn/scikit-learn/issues/21755 */display: inline-block !important;position: relative;}#sk-container-id-3 div.sk-text-repr-fallback {display: none;}</style><div id=\"sk-container-id-3\" class=\"sk-top-container\"><div class=\"sk-text-repr-fallback\"><pre>IsolationForest(max_features=0.8, max_samples=95588, n_estimators=1000,\n",
       "                n_jobs=-1, random_state=42)</pre><b>In a Jupyter environment, please rerun this cell to show the HTML representation or trust the notebook. <br />On GitHub, the HTML representation is unable to render, please try loading this page with nbviewer.org.</b></div><div class=\"sk-container\" hidden><div class=\"sk-item\"><div class=\"sk-estimator sk-toggleable\"><input class=\"sk-toggleable__control sk-hidden--visually\" id=\"sk-estimator-id-3\" type=\"checkbox\" checked><label for=\"sk-estimator-id-3\" class=\"sk-toggleable__label sk-toggleable__label-arrow\">IsolationForest</label><div class=\"sk-toggleable__content\"><pre>IsolationForest(max_features=0.8, max_samples=95588, n_estimators=1000,\n",
       "                n_jobs=-1, random_state=42)</pre></div></div></div></div></div>"
      ],
      "text/plain": [
       "IsolationForest(max_features=0.8, max_samples=95588, n_estimators=1000,\n",
       "                n_jobs=-1, random_state=42)"
      ]
     },
     "execution_count": 40,
     "metadata": {},
     "output_type": "execute_result"
    }
   ],
   "source": [
    "model.fit(X_train_selected)"
   ]
  },
  {
   "cell_type": "code",
   "execution_count": 41,
   "metadata": {},
   "outputs": [],
   "source": [
    "X_test_selected = selector.transform(X_test)\n",
    "y_pred = model.predict(X_test_selected)"
   ]
  },
  {
   "cell_type": "code",
   "execution_count": 42,
   "metadata": {},
   "outputs": [
    {
     "name": "stdout",
     "output_type": "stream",
     "text": [
      "Confusion Matrix:\n",
      "[[  118 11878]\n",
      " [    2  1569]]\n"
     ]
    },
    {
     "data": {
      "image/png": "[encoded data removed]",
      "text/plain": [
       "<Figure size 640x480 with 2 Axes>"
      ]
     },
     "metadata": {},
     "output_type": "display_data"
    },
    {
     "name": "stdout",
     "output_type": "stream",
     "text": [
      "\n",
      "Classification Report:\n",
      "              precision    recall  f1-score   support\n",
      "\n",
      "          -1       0.98      0.01      0.02     11996\n",
      "           1       0.12      1.00      0.21      1571\n",
      "\n",
      "    accuracy                           0.12     13567\n",
      "   macro avg       0.55      0.50      0.11     13567\n",
      "weighted avg       0.88      0.12      0.04     13567\n",
      "\n"
     ]
    }
   ],
   "source": [
    "print(\"Confusion Matrix:\")\n",
    "print(confusion_matrix(y_test_numeric, y_pred))\n",
    "\n",
    "disp = ConfusionMatrixDisplay(confusion_matrix=confusion_matrix(y_test_numeric, y_pred), display_labels=['nonTOR', 'TOR'])\n",
    "disp.plot()\n",
    "disp.title = 'Confusion Matrix'\n",
    "plt.show()\n",
    "\n",
    "print(\"\\nClassification Report:\")\n",
    "print(classification_report(y_test_numeric, y_pred))"
   ]
  }
 ],
 "metadata": {
  "kernelspec": {
   "display_name": "Python 3",
   "language": "python",
   "name": "python3"
  },
  "language_info": {
   "codemirror_mode": {
    "name": "ipython",
    "version": 3
   },
   "file_extension": ".py",
   "mimetype": "text/x-python",
   "name": "python",
   "nbconvert_exporter": "python",
   "pygments_lexer": "ipython3",
   "version": "3.10.12"
  }
 },
 "nbformat": 4,
 "nbformat_minor": 2
}
